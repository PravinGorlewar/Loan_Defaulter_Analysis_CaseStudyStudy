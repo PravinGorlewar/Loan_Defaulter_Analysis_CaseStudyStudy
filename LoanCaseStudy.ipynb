{
 "cells": [
  {
   "cell_type": "code",
   "execution_count": null,
   "id": "a8fb4c3f",
   "metadata": {
    "scrolled": true
   },
   "outputs": [],
   "source": [
    "import pandas as pd\n",
    "from datetime import datetime\n",
    "%matplotlib inline\n",
    "import matplotlib.pyplot as plt\n",
    "import numpy as np\n",
    "import seaborn as sns\n",
    "pd.set_option('display.max_rows', 1000)\n",
    "pd.set_option('display.max_columns', 111)\n",
    "pd.set_option('display.width', 1000)\n",
    "\n",
    "\n",
    "bank = pd.read_csv('C:/Users/Pravin Gorlewar/Desktop/upgrade/loan.csv',sep=',', error_bad_lines=False, index_col=False, dtype='unicode')\n",
    "\n",
    "def ReplaceString(arg):\n",
    "    if int(arg[4:]) <23:\n",
    "        arg = arg.replace('-','/20')\n",
    "    else:\n",
    "        arg = arg.replace('-','/19')\n",
    "    return arg\n",
    "\n",
    "def format_date(el):\n",
    "    return datetime.strptime(el, '%b/%Y').strftime('%B-%Y')\n",
    "\n",
    "\n",
    "\n",
    "#Data Formatting & cleaning\n",
    "\n",
    "#drop all columm with null values\n",
    "\n",
    "bank = bank.dropna(how='all', axis=1)\n",
    "\n",
    "#drop columm max null values\n",
    "bank.drop('next_pymnt_d', axis=1, inplace=True)\n",
    "bank.drop('mths_since_last_record', axis=1, inplace=True)\n",
    "bank.drop('mths_since_last_delinq', axis=1, inplace=True)\n",
    "bank.drop('desc', axis=1, inplace=True)\n",
    "\n",
    "\n",
    "#drop all row with null values\n",
    "bank = bank.dropna(how='all')\n",
    "\n",
    "# Datatype corrected to intereget\n",
    "#Unique ID\n",
    "bank['id'] = bank['id'].astype('int64')\n",
    "\n",
    "#The number of 30+ days past-due incidences of delinquency in the borrower's credit file for the past 2 years\n",
    "bank['delinq_2yrs'] = bank['delinq_2yrs'].astype('int64')\n",
    "\n",
    "\n",
    "bank['total_acc'] = bank['total_acc'].astype('int64')\n",
    "bank['pub_rec'] = bank['pub_rec'].astype('int64')\n",
    "bank['open_acc'] = bank['open_acc'].astype('int64')\n",
    "bank['inq_last_6mths'] = bank['inq_last_6mths'].astype('int64')\n",
    "bank['delinq_amnt'] = bank['delinq_amnt'].astype('int64')\n",
    "\n",
    "\n",
    "# Datatype corrected to Float\n",
    "bank['loan_amnt'] = bank['loan_amnt'].astype('float')\n",
    "bank['funded_amnt'] = bank['funded_amnt'].astype('float')\n",
    "bank['funded_amnt_inv'] = bank['funded_amnt_inv'].astype('float')\n",
    "bank['installment'] = bank['installment'].astype('float')\n",
    "bank['annual_inc'] = bank['annual_inc'].astype('float')\n",
    "bank['dti'] = bank['dti'].astype('float')\n",
    "bank['last_pymnt_amnt'] = bank['last_pymnt_amnt'].astype('float')\n",
    "bank['collection_recovery_fee'] = bank['collection_recovery_fee'].astype('float')\n",
    "bank['recoveries'] = bank['recoveries'].astype('float')\n",
    "bank['total_rec_int'] = bank['total_rec_int'].astype('float')\n",
    "bank['total_rec_prncp'] = bank['total_rec_prncp'].astype('float')\n",
    "bank['total_pymnt_inv'] = bank['total_pymnt_inv'].astype('float')\n",
    "bank['total_pymnt'] = bank['total_pymnt'].astype('float')\n",
    "bank['out_prncp_inv'] = bank['out_prncp_inv'].astype('float')\n",
    "bank['out_prncp'] = bank['out_prncp'].astype('float')\n",
    "bank['revol_bal'] = bank['revol_bal'].astype('float')\n",
    "bank['tax_liens'] = bank['tax_liens'].astype('float')\n",
    "bank['pub_rec_bankruptcies'] = bank['pub_rec_bankruptcies'].astype('float')\n",
    "bank['collections_12_mths_ex_med'] = bank['collections_12_mths_ex_med'].astype('float')\n",
    "bank['chargeoff_within_12_mths'] = bank['chargeoff_within_12_mths'].astype('float')\n",
    "\n",
    "\n",
    "\n",
    "#bank['loan_status'].unique()"
   ]
  },
  {
   "cell_type": "code",
   "execution_count": null,
   "id": "6cc80871",
   "metadata": {},
   "outputs": [],
   "source": [
    "#Drop column not in much use\n",
    "\n",
    "col = ['id', 'member_id', 'emp_title', 'pymnt_plan', 'zip_code', 'url', 'initial_list_status', 'out_prncp', 'out_prncp_inv', 'policy_code','tax_liens', 'application_type', 'pub_rec_bankruptcies', 'addr_state', 'delinq_amnt','chargeoff_within_12_mths', 'acc_now_delinq', 'collections_12_mths_ex_med', 'title' ]\n",
    "\n",
    "bank.drop(col, axis=1, inplace=True)\n",
    "\n"
   ]
  },
  {
   "cell_type": "code",
   "execution_count": null,
   "id": "f3cd1fc5",
   "metadata": {
    "scrolled": true
   },
   "outputs": [],
   "source": [
    "bank.info()"
   ]
  },
  {
   "cell_type": "code",
   "execution_count": null,
   "id": "2fb246b4",
   "metadata": {},
   "outputs": [],
   "source": [
    "# Handle missing values\n",
    "bank['emp_length'].unique()\n",
    "\n",
    "#index_names = bank[ bank['emp_length'] == '' ].index\n",
    "bank.dropna(subset = ['emp_length'], inplace=True)\n",
    "bank.dropna(subset = ['last_pymnt_d'], inplace=True)\n",
    "bank.dropna(subset = ['last_credit_pull_d'], inplace=True)\n",
    "bank.dropna(subset = ['revol_util'], inplace=True)\n",
    "\n"
   ]
  },
  {
   "cell_type": "code",
   "execution_count": 164,
   "id": "a27327b9",
   "metadata": {},
   "outputs": [
    {
     "name": "stdout",
     "output_type": "stream",
     "text": [
      "<class 'pandas.core.frame.DataFrame'>\n",
      "Int64Index: 38531 entries, 0 to 39716\n",
      "Data columns (total 34 columns):\n",
      " #   Column                   Non-Null Count  Dtype  \n",
      "---  ------                   --------------  -----  \n",
      " 0   loan_amnt                38531 non-null  float64\n",
      " 1   funded_amnt              38531 non-null  float64\n",
      " 2   funded_amnt_inv          38531 non-null  float64\n",
      " 3   term                     38531 non-null  object \n",
      " 4   int_rate                 38531 non-null  object \n",
      " 5   installment              38531 non-null  float64\n",
      " 6   grade                    38531 non-null  object \n",
      " 7   sub_grade                38531 non-null  object \n",
      " 8   emp_length               38531 non-null  object \n",
      " 9   home_ownership           38531 non-null  object \n",
      " 10  annual_inc               38531 non-null  float64\n",
      " 11  verification_status      38531 non-null  object \n",
      " 12  issue_d                  38531 non-null  object \n",
      " 13  loan_status              38531 non-null  object \n",
      " 14  purpose                  38531 non-null  object \n",
      " 15  dti                      38531 non-null  float64\n",
      " 16  delinq_2yrs              38531 non-null  int64  \n",
      " 17  earliest_cr_line         38531 non-null  object \n",
      " 18  inq_last_6mths           38531 non-null  int64  \n",
      " 19  open_acc                 38531 non-null  int64  \n",
      " 20  pub_rec                  38531 non-null  int64  \n",
      " 21  revol_bal                38531 non-null  float64\n",
      " 22  revol_util               38531 non-null  object \n",
      " 23  total_acc                38531 non-null  int64  \n",
      " 24  total_pymnt              38531 non-null  float64\n",
      " 25  total_pymnt_inv          38531 non-null  float64\n",
      " 26  total_rec_prncp          38531 non-null  float64\n",
      " 27  total_rec_int            38531 non-null  float64\n",
      " 28  total_rec_late_fee       38531 non-null  object \n",
      " 29  recoveries               38531 non-null  float64\n",
      " 30  collection_recovery_fee  38531 non-null  float64\n",
      " 31  last_pymnt_d             38531 non-null  object \n",
      " 32  last_pymnt_amnt          38531 non-null  float64\n",
      " 33  last_credit_pull_d       38531 non-null  object \n",
      "dtypes: float64(14), int64(5), object(15)\n",
      "memory usage: 10.3+ MB\n"
     ]
    }
   ],
   "source": [
    "bank.info()"
   ]
  },
  {
   "cell_type": "code",
   "execution_count": null,
   "id": "ad2e55c4",
   "metadata": {},
   "outputs": [],
   "source": [
    "\n",
    "#Check record distribution based on loan status\n",
    "chargedoff = bank[bank['loan_status'] == 'Charged Off']['loan_amnt'].sum() \n",
    "fullypaid = bank[bank['loan_status'] == 'Fully Paid']['loan_amnt'].sum()\n",
    "current = bank[bank['loan_status'] == 'Current']['loan_amnt'].sum()\n",
    "\n",
    "fig, ax = plt.subplots(figsize =(10, 7))\n",
    "lslabel = ['Charged Off','Fully Paid', 'Current']\n",
    "loan_status = [chargedoff,fullypaid,current]\n",
    "\n",
    "plt.pie(loan_status, labels = lslabel)\n",
    "plt.legend(loan_status,title=\"Loan Amount\",loc=\"center left\",bbox_to_anchor=(1, 0, 0.5, 1))\n",
    "\n",
    "plt.show()\n"
   ]
  },
  {
   "cell_type": "code",
   "execution_count": null,
   "id": "91ff3d22",
   "metadata": {},
   "outputs": [],
   "source": [
    "#Drop resources with loan_status = current\n",
    "index_names = bank[ bank['loan_status'] == 'Current' ].index\n",
    "bank.drop(index_names, inplace = True)"
   ]
  },
  {
   "cell_type": "code",
   "execution_count": null,
   "id": "74609066",
   "metadata": {},
   "outputs": [],
   "source": [
    "#Remove Outliers\n",
    "\n",
    "bank.boxplot('annual_inc')\n",
    "#bank.plot.bar(x='annual_inc', y = 'loan_amnt')"
   ]
  }
 ],
 "metadata": {
  "kernelspec": {
   "display_name": "Python 3 (ipykernel)",
   "language": "python",
   "name": "python3"
  },
  "language_info": {
   "codemirror_mode": {
    "name": "ipython",
    "version": 3
   },
   "file_extension": ".py",
   "mimetype": "text/x-python",
   "name": "python",
   "nbconvert_exporter": "python",
   "pygments_lexer": "ipython3",
   "version": "3.10.9"
  }
 },
 "nbformat": 4,
 "nbformat_minor": 5
}
